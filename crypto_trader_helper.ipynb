{
  "nbformat": 4,
  "nbformat_minor": 0,
  "metadata": {
    "colab": {
      "provenance": []
    },
    "kernelspec": {
      "name": "python3",
      "display_name": "Python 3"
    },
    "language_info": {
      "name": "python"
    }
  },
  "cells": [
    {
      "cell_type": "code",
      "execution_count": null,
      "metadata": {
        "id": "Em-QwdxyCrTj"
      },
      "outputs": [],
      "source": [
        "import requests as rs\n",
        "from bs4 import BeautifulSoup as bs\n",
        "import pandas as pd\n",
        "from pandas import DataFrame as dtf\n",
        "import re\n",
        "from datetime import datetime as dt\n",
        "from IPython.display import display as dp"
      ]
    },
    {
      "cell_type": "markdown",
      "source": [
        "# Trade"
      ],
      "metadata": {
        "id": "2XtcTwudPD1_"
      }
    },
    {
      "cell_type": "code",
      "source": [
        "class Trade:\n",
        "\n",
        "  def __init__(self, crypto = '', save = False) -> None:\n",
        "    self.crypto = crypto.upper() if crypto else 'DOGE'\n",
        "    self.save = save\n",
        "\n",
        "  def get_current_prices(self):\n",
        "\n",
        "    url = 'https://www.binance.com/en/markets?p'\n",
        "\n",
        "    response = rs.get(url)\n",
        "    if response.status_code != 200:            return 'Not [200]'\n",
        "\n",
        "    soup = bs(response.content, 'html.parser')\n",
        "\n",
        "    self.df = dtf({\n",
        "        'full_name':      [name.string for name in soup.find_all(class_ = 'css-1ap5wc6')],\n",
        "        'abb':            [abb.string for abb in soup.find_all(class_ = 'css-1x8dg53')],\n",
        "        'price':          [price.string for price in soup.find_all(class_ = 'css-ovtrou')]\n",
        "        })\n",
        "\n",
        "    try:                  self.df['price_float'] = [float(re.sub('[\\$\\,]', '', price)) for price in self.df.price]\n",
        "    except:               return \"Can't convert the price into float!\"\n",
        "\n",
        "    try:                  ex_crypto = float(self.df[self.df['abb'] == self.crypto]['price_float'])\n",
        "    except:               print(\"The wanted asset [%s] haven't been found!\" % self.crypto);   return self.df\n",
        "                         \n",
        "    self.df[ self.crypto + '\\n' + \n",
        "            dt.today().strftime('%d %b %Y') ]   =  [\n",
        "                 ex_crypto / price for price in self.df['price_float']]\n",
        "\n",
        "\n",
        "\n",
        "    if self.save:\n",
        "\n",
        "      try:                self.df.to_csv('/content/drive/MyDrive/trade/%s%s.csv' % (self.crypto.lower(), dt.today().strftime('_%d%m%y')))\n",
        "      except:             print('An error occured => [save]!')\n",
        "\n",
        "    return self.df"
      ],
      "metadata": {
        "id": "AzT3NvASC8MP"
      },
      "execution_count": null,
      "outputs": []
    },
    {
      "cell_type": "markdown",
      "source": [
        "# Profit"
      ],
      "metadata": {
        "id": "hqVQnBe3PH7f"
      }
    },
    {
      "cell_type": "code",
      "source": [
        "class Profit: \n",
        "\n",
        "  def __init__(self, crypto, history, return_ = False, select = False, only_prof = False):\n",
        "    self.history = history\n",
        "    self.crypto = crypto.upper()\n",
        "    self.return_ = return_\n",
        "    self.select = select\n",
        "    self.only_prof = only_prof\n",
        "\n",
        "  def show_profit(self):\n",
        "\n",
        "    path = self.crypto.lower() + self.history.strftime('_%d%m%y')\n",
        "    tr_ = (self.crypto, self.history.strftime('%d %b %Y'))\n",
        "    cr_ = (self.crypto, dt.today().strftime('%d %b %Y'))\n",
        "    cur = Trade(self.crypto.lower()).get_current_prices()\n",
        "\n",
        "    if not len(cur):        return \n",
        "    print(('/content/drive/MyDrive/trade/%s.csv' % path))\n",
        "    try:                    trade = pd.read_csv('/content/drive/MyDrive/trade/%s.csv' % path); print('\\ttrade retrieved!')\n",
        "    except:                 print(\"The file can't be opened. Check if the directory or file name is correct!\"); return\n",
        "\n",
        "    try:                    merged = pd.merge(trade[['full_name', 'abb', 'price', 'price_float', '%s\\n%s' % tr_]\n",
        "                                                    ],cur[['price', 'abb', 'price_float', '%s\\n%s' % cr_]\n",
        "                                                          ], on='abb', suffixes = ['_trade', '_cur']); print('\\tfiles merghed!')\n",
        "    except:                 print(\"Merging failed!\");                                     return\n",
        "    \n",
        "    print('%s\\n%s\\n' % cr_ + '%s\\n%s' % tr_)\n",
        "\n",
        "    try:                    merged['cur_prof'] = merged[\n",
        "        '%s\\n%s_cur' % cr_ if cr_ == tr_ else '%s\\n%s' % cr_] - merged[\n",
        "            '%s\\n%s_trade' % tr_ if cr_ == tr_ else '%s\\n%s' % tr_]; print('\\tCurrent profit found!') \n",
        "\n",
        "    except:                 print('Current profit observation failed!');                  return\n",
        "\n",
        "    try:                    merged['cur_prof_percent'] = merged[\n",
        "        '%s\\n%s_cur' % cr_ if cr_ == tr_ else '%s\\n%s' % cr_] / merged[\n",
        "            '%s\\n%s_trade' % tr_ if cr_ == tr_ else '%s\\n%s' % tr_] * 100 - 100; print('\\tCurrent profit persentage found!')\n",
        "    except:                 print('Current profit percentage observation failed!');       return\n",
        "\n",
        "    try:                    merged.drop(['price_float_trade','price_float_cur'], axis=1, inplace=True); print(\"['price_float_trade','price_float_cur'] dropped!\")\n",
        "    except:                 print(\"Couldn't drop columuns!\");                             return\n",
        "\n",
        "\n",
        "    if not self.select and not self.only_prof and self.return_:                           return merged[\n",
        "        \n",
        "        ['full_name', 'abb', \n",
        "         'price_trade', \n",
        "         'price_cur', \n",
        "         '%s\\n%s_trade' % tr_ if cr_ == tr_ else '%s\\n%s' % tr_, \n",
        "         '%s\\n%s_cur' % cr_ if cr_ == tr_ else '%s\\n%s' % cr_, \n",
        "         'cur_prof', \n",
        "         'cur_prof_percent']\n",
        "\n",
        "    ]\n",
        "\n",
        "    if not self.select and self.only_prof:                                                return merged[\n",
        "        \n",
        "        merged.cur_prof > 0\n",
        "\n",
        "    ]\n",
        "\n",
        "    if self.select:         target = input('Asset: ').upper()\n",
        "\n",
        "    try:                    selection = merged[merged['abb'] == target];                  return selection\n",
        "    except:                 print(\"Asset not found!\");                                    return\n",
        "\n",
        "    \n"
      ],
      "metadata": {
        "id": "-PaEKHdUPJ1t"
      },
      "execution_count": null,
      "outputs": []
    },
    {
      "cell_type": "markdown",
      "source": [
        "# Run\n"
      ],
      "metadata": {
        "id": "R1FI_5oDtzZH"
      }
    },
    {
      "cell_type": "code",
      "source": [
        "# Trade\n",
        "\n",
        "df = Trade(input('Asset: '), save = bool(input('Save? 1/0: '))).get_current_prices()"
      ],
      "metadata": {
        "id": "8CRXQH_lt2ps",
        "colab": {
          "base_uri": "https://localhost:8080/"
        },
        "outputId": "24865e5d-c0e4-4e75-927b-ec415f2b2c4b"
      },
      "execution_count": null,
      "outputs": [
        {
          "name": "stdout",
          "output_type": "stream",
          "text": [
            "Asset: busd\n",
            "Save? 1/0: 1\n"
          ]
        }
      ]
    },
    {
      "cell_type": "code",
      "source": [
        "# Profit\n",
        "\n",
        "def profit():\n",
        "  try:\n",
        "    return Profit(input('Asset: '),\n",
        "                  dt(int(input('year: ')), int(input('month: ')), int(input('day: '))),\n",
        "                  return_=True, select=False, only_prof=False).show_profit()\n",
        "  except: \n",
        "    print('Error occured!')\n",
        "2\n",
        "dp(profit())"
      ],
      "metadata": {
        "id": "Ax1vTb9et6Bi"
      },
      "execution_count": null,
      "outputs": []
    },
    {
      "cell_type": "code",
      "source": [
        "# Profit\n",
        "\n",
        "def profit():\n",
        "  try:\n",
        "    return Profit('doge',\n",
        "                  dt(2022, 12, 30),\n",
        "                  return_=1, select=1, only_prof=False).show_profit()\n",
        "  except: \n",
        "    print('Error occured!')\n",
        "\n",
        "dp(profit()) "
      ],
      "metadata": {
        "id": "NVtxfJqfvi4k",
        "colab": {
          "base_uri": "https://localhost:8080/",
          "height": 283
        },
        "outputId": "7f4449d3-5df4-4f83-91ee-9966876d7788"
      },
      "execution_count": null,
      "outputs": [
        {
          "name": "stdout",
          "output_type": "stream",
          "text": [
            "/content/drive/MyDrive/trade/doge_301222.csv\n",
            "\ttrade retrieved!\n",
            "\tfiles merghed!\n",
            "DOGE\n",
            "01 Jan 2023\n",
            "DOGE\n",
            "30 Dec 2022\n",
            "\tCurrent profit found!\n",
            "\tCurrent profit persentage found!\n",
            "['price_float_trade','price_float_cur'] dropped!\n",
            "Asset: twt\n"
          ]
        },
        {
          "output_type": "display_data",
          "data": {
            "text/plain": [
              "             full_name  abb price_trade  DOGE\\n30 Dec 2022 price_cur  \\\n",
              "44  Trust Wallet Token  TWT       $1.31            0.05326     $1.41   \n",
              "\n",
              "    DOGE\\n01 Jan 2023  cur_prof  cur_prof_percent  \n",
              "44            0.04995 -0.003309         -6.213323  "
            ],
            "text/html": [
              "\n",
              "  <div id=\"df-c9e0f5eb-9bec-4eda-9c0e-b415e231c372\">\n",
              "    <div class=\"colab-df-container\">\n",
              "      <div>\n",
              "<style scoped>\n",
              "    .dataframe tbody tr th:only-of-type {\n",
              "        vertical-align: middle;\n",
              "    }\n",
              "\n",
              "    .dataframe tbody tr th {\n",
              "        vertical-align: top;\n",
              "    }\n",
              "\n",
              "    .dataframe thead th {\n",
              "        text-align: right;\n",
              "    }\n",
              "</style>\n",
              "<table border=\"1\" class=\"dataframe\">\n",
              "  <thead>\n",
              "    <tr style=\"text-align: right;\">\n",
              "      <th></th>\n",
              "      <th>full_name</th>\n",
              "      <th>abb</th>\n",
              "      <th>price_trade</th>\n",
              "      <th>DOGE\\n30 Dec 2022</th>\n",
              "      <th>price_cur</th>\n",
              "      <th>DOGE\\n01 Jan 2023</th>\n",
              "      <th>cur_prof</th>\n",
              "      <th>cur_prof_percent</th>\n",
              "    </tr>\n",
              "  </thead>\n",
              "  <tbody>\n",
              "    <tr>\n",
              "      <th>44</th>\n",
              "      <td>Trust Wallet Token</td>\n",
              "      <td>TWT</td>\n",
              "      <td>$1.31</td>\n",
              "      <td>0.05326</td>\n",
              "      <td>$1.41</td>\n",
              "      <td>0.04995</td>\n",
              "      <td>-0.003309</td>\n",
              "      <td>-6.213323</td>\n",
              "    </tr>\n",
              "  </tbody>\n",
              "</table>\n",
              "</div>\n",
              "      <button class=\"colab-df-convert\" onclick=\"convertToInteractive('df-c9e0f5eb-9bec-4eda-9c0e-b415e231c372')\"\n",
              "              title=\"Convert this dataframe to an interactive table.\"\n",
              "              style=\"display:none;\">\n",
              "        \n",
              "  <svg xmlns=\"http://www.w3.org/2000/svg\" height=\"24px\"viewBox=\"0 0 24 24\"\n",
              "       width=\"24px\">\n",
              "    <path d=\"M0 0h24v24H0V0z\" fill=\"none\"/>\n",
              "    <path d=\"M18.56 5.44l.94 2.06.94-2.06 2.06-.94-2.06-.94-.94-2.06-.94 2.06-2.06.94zm-11 1L8.5 8.5l.94-2.06 2.06-.94-2.06-.94L8.5 2.5l-.94 2.06-2.06.94zm10 10l.94 2.06.94-2.06 2.06-.94-2.06-.94-.94-2.06-.94 2.06-2.06.94z\"/><path d=\"M17.41 7.96l-1.37-1.37c-.4-.4-.92-.59-1.43-.59-.52 0-1.04.2-1.43.59L10.3 9.45l-7.72 7.72c-.78.78-.78 2.05 0 2.83L4 21.41c.39.39.9.59 1.41.59.51 0 1.02-.2 1.41-.59l7.78-7.78 2.81-2.81c.8-.78.8-2.07 0-2.86zM5.41 20L4 18.59l7.72-7.72 1.47 1.35L5.41 20z\"/>\n",
              "  </svg>\n",
              "      </button>\n",
              "      \n",
              "  <style>\n",
              "    .colab-df-container {\n",
              "      display:flex;\n",
              "      flex-wrap:wrap;\n",
              "      gap: 12px;\n",
              "    }\n",
              "\n",
              "    .colab-df-convert {\n",
              "      background-color: #E8F0FE;\n",
              "      border: none;\n",
              "      border-radius: 50%;\n",
              "      cursor: pointer;\n",
              "      display: none;\n",
              "      fill: #1967D2;\n",
              "      height: 32px;\n",
              "      padding: 0 0 0 0;\n",
              "      width: 32px;\n",
              "    }\n",
              "\n",
              "    .colab-df-convert:hover {\n",
              "      background-color: #E2EBFA;\n",
              "      box-shadow: 0px 1px 2px rgba(60, 64, 67, 0.3), 0px 1px 3px 1px rgba(60, 64, 67, 0.15);\n",
              "      fill: #174EA6;\n",
              "    }\n",
              "\n",
              "    [theme=dark] .colab-df-convert {\n",
              "      background-color: #3B4455;\n",
              "      fill: #D2E3FC;\n",
              "    }\n",
              "\n",
              "    [theme=dark] .colab-df-convert:hover {\n",
              "      background-color: #434B5C;\n",
              "      box-shadow: 0px 1px 3px 1px rgba(0, 0, 0, 0.15);\n",
              "      filter: drop-shadow(0px 1px 2px rgba(0, 0, 0, 0.3));\n",
              "      fill: #FFFFFF;\n",
              "    }\n",
              "  </style>\n",
              "\n",
              "      <script>\n",
              "        const buttonEl =\n",
              "          document.querySelector('#df-c9e0f5eb-9bec-4eda-9c0e-b415e231c372 button.colab-df-convert');\n",
              "        buttonEl.style.display =\n",
              "          google.colab.kernel.accessAllowed ? 'block' : 'none';\n",
              "\n",
              "        async function convertToInteractive(key) {\n",
              "          const element = document.querySelector('#df-c9e0f5eb-9bec-4eda-9c0e-b415e231c372');\n",
              "          const dataTable =\n",
              "            await google.colab.kernel.invokeFunction('convertToInteractive',\n",
              "                                                     [key], {});\n",
              "          if (!dataTable) return;\n",
              "\n",
              "          const docLinkHtml = 'Like what you see? Visit the ' +\n",
              "            '<a target=\"_blank\" href=https://colab.research.google.com/notebooks/data_table.ipynb>data table notebook</a>'\n",
              "            + ' to learn more about interactive tables.';\n",
              "          element.innerHTML = '';\n",
              "          dataTable['output_type'] = 'display_data';\n",
              "          await google.colab.output.renderOutput(dataTable, element);\n",
              "          const docLink = document.createElement('div');\n",
              "          docLink.innerHTML = docLinkHtml;\n",
              "          element.appendChild(docLink);\n",
              "        }\n",
              "      </script>\n",
              "    </div>\n",
              "  </div>\n",
              "  "
            ]
          },
          "metadata": {}
        }
      ]
    },
    {
      "cell_type": "code",
      "source": [],
      "metadata": {
        "id": "0mcxXgveLLum"
      },
      "execution_count": null,
      "outputs": []
    }
  ]
}
